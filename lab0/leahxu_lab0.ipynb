{
 "metadata": {
  "name": ""
 },
 "nbformat": 3,
 "nbformat_minor": 0,
 "worksheets": [
  {
   "cells": [
    {
     "cell_type": "code",
     "collapsed": false,
     "input": [
      "import matplotlib.pyplot as plot\n",
      "import csv \n",
      "\n",
      "diamonds = csv.DictReader(open('Diamond.csv'))\n",
      "\n",
      "# Determines the used classifications for each C\n",
      "#colour = set()\n",
      "#for d in diamonds: \n",
      "#    colour.add(d['colour'])   \n",
      "#print(colour)\n",
      "\n",
      "colours = {'D': 'blue', 'E': 'green', 'F': 'red', 'G': 'cyan', 'H': 'magenta', 'I': 'yellow'}\n",
      "clarity = {'IF': 1, 'VVS1': .8, 'VVS2': .6, 'VS1': .4, 'VS2': .2}\n",
      "\n",
      "print(colours)\n",
      "print(clarity)\n",
      "\n",
      "for d in diamonds:\n",
      "    plot.scatter(d['carat'], d['price'], c = colours[d['colour']], s = 200*clarity[d['clarity']],  alpha = .6)\n",
      "    \n",
      "plot.title('Diamond Prices')\n",
      "plot.xlabel('Carat')\n",
      "plot.ylabel('Price (in dollars)')\n",
      "plot.grid(True)\n",
      "plot.show()"
     ],
     "language": "python",
     "metadata": {},
     "outputs": [
      {
       "output_type": "stream",
       "stream": "stdout",
       "text": [
        "{'E': 'green', 'D': 'blue', 'G': 'cyan', 'F': 'red', 'I': 'yellow', 'H': 'magenta'}\n",
        "{'VVS1': 0.8, 'VS1': 0.4, 'VS2': 0.2, 'VVS2': 0.6, 'IF': 1}\n"
       ]
      }
     ],
     "prompt_number": 1
    },
    {
     "cell_type": "code",
     "collapsed": false,
     "input": [],
     "language": "python",
     "metadata": {},
     "outputs": []
    }
   ],
   "metadata": {}
  }
 ]
}