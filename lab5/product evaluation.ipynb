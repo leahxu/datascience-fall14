{
 "metadata": {
  "name": ""
 },
 "nbformat": 3,
 "nbformat_minor": 0,
 "worksheets": [
  {
   "cells": [
    {
     "cell_type": "code",
     "collapsed": false,
     "input": [
      "import pandas as pd\n",
      "import numpy as np\n",
      "\n",
      "ground_truth = pd.read_csv('product_mapping.csv')\n",
      "products = pd.read_csv('products_out.csv')\n",
      "\n",
      "amazon = products[products['source'] == 'amazon']\n",
      "google = products[products['source'] == 'google']\n",
      "\n",
      "approx = pd.merge(amazon, google, on='Cluster ID')\n",
      "approx = approx[['id_x', 'id_y']]\n",
      "\n",
      "approx.rename(columns={'id_x':'idAmazon', 'id_y':'idGoogleBase'}, inplace=True)\n",
      "\n",
      "intersection = pd.merge(ground_truth, approx, on=['idAmazon', 'idGoogleBase'])\n",
      "precision = float(len(intersection))/len(approx)\n",
      "recall = float(len(intersection))/len(ground_truth)\n",
      "\n",
      "print \"Precision:\", precision\n",
      "print \"Recall:\", recall"
     ],
     "language": "python",
     "metadata": {},
     "outputs": [
      {
       "output_type": "stream",
       "stream": "stdout",
       "text": [
        "Precision: 0.337519623234\n",
        "Recall: 0.165384615385\n"
       ]
      }
     ],
     "prompt_number": 109
    },
    {
     "cell_type": "code",
     "collapsed": false,
     "input": [],
     "language": "python",
     "metadata": {},
     "outputs": []
    }
   ],
   "metadata": {}
  }
 ]
}